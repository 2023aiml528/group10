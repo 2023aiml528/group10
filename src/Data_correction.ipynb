{
 "cells": [
  {
   "cell_type": "code",
   "execution_count": 1,
   "id": "46680d81-9931-4163-85b7-5184c12bc71f",
   "metadata": {},
   "outputs": [],
   "source": [
    "#!pip uninstall numba visions\n",
    "#!pip install numba visions"
   ]
  },
  {
   "cell_type": "code",
   "execution_count": 2,
   "id": "724087be-2df2-4eb5-9317-a375227f4cb1",
   "metadata": {},
   "outputs": [],
   "source": [
    "# necessary imports \n",
    "\n",
    "import pandas as pd\n",
    "import numpy as np\n",
    "import numpy as nb\n",
    "import matplotlib.pyplot as plt\n",
    "import seaborn as sns\n",
    "import plotly.express as px\n",
    "import numba as numba\n",
    "import warnings\n",
    "warnings.filterwarnings('ignore')\n"
   ]
  },
  {
   "cell_type": "code",
   "execution_count": 3,
   "id": "15f3b407-fafd-4f47-8c7f-f1bd2b5275f6",
   "metadata": {},
   "outputs": [],
   "source": [
    "df = pd.read_csv('health_insurance_data_Benefits.csv')"
   ]
  },
  {
   "cell_type": "code",
   "execution_count": 4,
   "id": "603efa04-3f49-4480-9381-264de6670268",
   "metadata": {},
   "outputs": [
    {
     "name": "stdout",
     "output_type": "stream",
     "text": [
      "Diagnosis Report column added successfully!\n"
     ]
    }
   ],
   "source": [
    "import pandas as pd\n",
    "import random\n",
    "\n",
    "\n",
    "treatment_list = [\n",
    "    # General Treatments\n",
    "    \"Administered antibiotics for infection control.\",\n",
    "    \"Performed minor surgery for injury repair.\",\n",
    "    \"Provided physiotherapy for mobility improvement.\",\n",
    "    \"Conducted routine check-up and prescribed vitamins.\",\n",
    "    \"Administered pain relief for post-operative recovery.\",\n",
    "    \"Provided counseling for mental health support.\",\n",
    "    \"Vi\",\n",
    "\n",
    "    # Pregnancy Care\n",
    "    \"Provided prenatal care and routine ultrasound monitoring.\",\n",
    "    \"Administered supplements for maternal health and fetal development.\",\n",
    "    \"Conducted postpartum evaluation and counseling on lactation.\",\n",
    "    \"Assisted with delivery and provided neonatal care.\",\n",
    "\n",
    "    # Heart Surgery\n",
    "    \"Performed coronary artery bypass surgery successfully.\",\n",
    "    \"Administered post-operative care for valve replacement surgery.\",\n",
    "    \"Provided cardiac rehabilitation and prescribed medications for recovery.\",\n",
    "    \"Conducted angioplasty and monitored for complications.\",\n",
    "\n",
    "    # Eye Cataract Operations\n",
    "    \"Performed cataract removal and implanted intraocular lens.\",\n",
    "    \"Administered post-operative eye drops and advised on vision recovery.\",\n",
    "    \"Assessed pre-surgery and provided comprehensive eye care instructions.\",\n",
    "    \"Conducted follow-up after laser cataract surgery.\"\n",
    "\n",
    "    # Dengue Fever Treatment\n",
    "    \"Monitored and managed platelet count through blood transfusion during dengue fever.\",\n",
    "    \"Provided intravenous fluids and electrolyte therapy for severe dehydration.\",\n",
    "    \"Administered antipyretics and managed symptoms of dengue hemorrhagic fever.\",\n",
    "    \"Conducted hospital-based monitoring for critical dengue shock syndrome cases.\",\n",
    "\n",
    "    # Dialysis Treatments\n",
    "    \"Performed hemodialysis for renal failure with continuous monitoring of vitals.\",\n",
    "    \"Administered peritoneal dialysis and provided post-treatment counseling.\",\n",
    "    \"Managed complications of chronic kidney disease through hospitalization and dialysis sessions.\",\n",
    "    \"Provided care for acute kidney injury requiring urgent dialysis.\",\n",
    "\n",
    "    # Lungs-Related Treatments\n",
    "    \"Provided ventilator support for respiratory failure caused by severe pneumonia.\",\n",
    "    \"Administered bronchodilators and oxygen therapy for chronic obstructive pulmonary disease (COPD).\",\n",
    "    \"Conducted surgical intervention for lung cancer patients.\",\n",
    "    \"Hospitalized for treatment of severe asthma exacerbation with corticosteroids.\",\n",
    "    \"Managed acute pulmonary embolism through anticoagulation therapy under close supervision.\"\n",
    "]\n",
    "\n",
    "# Generate a new 'Diagnosis Report' column\n",
    "df['Diagnosis Report'] = df.apply(\n",
    "    lambda row: f\"Patient ID: {row['Patient ID']}, Hospital: {row['Hospital']} , Doctor:{row['Doctor']}, Treatment: {random.choice(treatment_list)}\", axis=1\n",
    ")\n",
    "\n",
    "# Save the updated dataset\n",
    "df.to_csv('updated_health_insurance_data_Benefits.csv', index=False)\n",
    "\n",
    "print(\"Diagnosis Report column added successfully!\")\n"
   ]
  },
  {
   "cell_type": "code",
   "execution_count": 5,
   "id": "4c150f7c-ccc5-435c-b382-eee4b64252a2",
   "metadata": {},
   "outputs": [],
   "source": [
    "changed_df = pd.read_csv('updated_health_insurance_data_Benefits.csv')"
   ]
  },
  {
   "cell_type": "code",
   "execution_count": 6,
   "id": "5dfb73ad-e9d6-49f7-9de3-62fd6e178efd",
   "metadata": {},
   "outputs": [
    {
     "data": {
      "text/plain": [
       "0                                                      Patient ID: 0e1e83f5-907b-4ea7-85ed-10b144b58fbc, Hospital: Williams Ltd , Doctor:Dr. Robert Wilson, Treatment: Provided physiotherapy for mobility improvement.\n",
       "1                                                           Patient ID: 0580f1ca-ee31-4457-b5d6-bea90e6bc222, Hospital: Mitchell Ltd , Doctor:Dr. Angelica Clark, Treatment: Performed minor surgery for injury repair.\n",
       "2      Patient ID: 336919ca-e1bc-43f6-bf42-0195dd6a2cf5, Hospital: Hill and Sons , Doctor:Dr. Lynn Archer, Treatment: Administered bronchodilators and oxygen therapy for chronic obstructive pulmonary disease (COPD).\n",
       "3                                                                                                     Patient ID: 2f495bf0-e2f3-4799-a6fe-87453db985ff, Hospital: Rose-Vasquez , Doctor:Dr. Amy Saunders, Treatment: Vi\n",
       "4                            Patient ID: 68f1bcd6-0667-4e7b-a90a-b912dead1aec, Hospital: Bartlett-Hernandez , Doctor:Dr. Daniel Jones, Treatment: Administered post-operative eye drops and advised on vision recovery.\n",
       "5                                                              Patient ID: c86c24b0-af1b-4a43-b0bf-549d8837695e, Hospital: Norris-Bennett , Doctor:Dr. Laura Lee, Treatment: Performed minor surgery for injury repair.\n",
       "6                                                                                    Patient ID: 894f6ae8-0c4f-4096-8e61-2ebabb4cd052, Hospital: Becker, Martin and Campbell , Doctor:Dr. William Tanner, Treatment: Vi\n",
       "7                                  Patient ID: 12a7f314-c603-4538-bc16-000938ec1bca, Hospital: Byrd Group , Doctor:Dr. Meghan Clayton, Treatment: Administered post-operative eye drops and advised on vision recovery.\n",
       "8                                      Patient ID: cf21d7f7-8932-43d3-b336-79de16d98309, Hospital: Arnold-Scott , Doctor:Dr. Adam Hernandez, Treatment: Administered post-operative care for valve replacement surgery.\n",
       "9                                          Patient ID: a7f8bce5-176f-4f35-963a-8048a12b65f7, Hospital: Walsh Group , Doctor:Dr. Gary Morris, Treatment: Administered post-operative care for valve replacement surgery.\n",
       "10                                                 Patient ID: 7a518bbc-f726-4b67-8549-4af764d593f3, Hospital: Delgado PLC , Doctor:Dr. Mrs. Heather Lynch, Treatment: Provided physiotherapy for mobility improvement.\n",
       "11                              Patient ID: c02b4f74-01bd-41e4-8d51-8bc42bf0ea08, Hospital: Hammond-Harris , Doctor:Dr. Danielle Walker, Treatment: Administered supplements for maternal health and fetal development.\n",
       "12                                  Patient ID: 894e3cbf-83d2-4ad0-a6fe-7174d21c3ccc, Hospital: Sanders, Foster and Thornton , Doctor:Dr. Carol Hunt, Treatment: Performed coronary artery bypass surgery successfully.\n",
       "13                      Patient ID: d25835e8-7e5a-4127-915f-2fc981306de3, Hospital: Taylor, Scott and Hill , Doctor:Dr. Isaiah Ibarra, Treatment: Administered post-operative eye drops and advised on vision recovery.\n",
       "14                                                       Patient ID: d27c3f96-ce7a-479f-8ea6-506d189b4f73, Hospital: Nelson-Arias , Doctor:Dr. Michael Smith, Treatment: Provided counseling for mental health support.\n",
       "15    Patient ID: 74c8bdb4-6dc1-4fe6-be7f-63ebac449eb8, Hospital: Watson, Rhodes and Watts , Doctor:Dr. Mrs. Jasmine Edwards MD, Treatment: Provided intravenous fluids and electrolyte therapy for severe dehydration.\n",
       "16                                                          Patient ID: e45005e2-2ea9-4f4e-81e9-6ca05d412ae3, Hospital: Love Inc , Doctor:Dr. Amy Bruce, Treatment: Conducted routine check-up and prescribed vitamins.\n",
       "17              Patient ID: 947887bd-942a-4759-a7f6-2560ff6f2dd7, Hospital: Hunter, Lindsey and Harris , Doctor:Dr. Crystal Morris, Treatment: Provided cardiac rehabilitation and prescribed medications for recovery.\n",
       "18                                         Patient ID: 5f48b64d-1716-4894-b78a-81809de64ace, Hospital: Porter, Beck and Foley , Doctor:Dr. Scott Wright, Treatment: Conducted routine check-up and prescribed vitamins.\n",
       "19                                  Patient ID: 1a6a3e51-419c-492c-9a85-740549f3c6b6, Hospital: Hunter-Miller , Doctor:Dr. John Clark, Treatment: Administered post-operative eye drops and advised on vision recovery.\n",
       "Name: Diagnosis Report, dtype: object"
      ]
     },
     "execution_count": 6,
     "metadata": {},
     "output_type": "execute_result"
    }
   ],
   "source": [
    "# Adjust the maximum column width\n",
    "pd.set_option('display.max_colwidth', None)\n",
    "changed_df['Diagnosis Report'].head(20)"
   ]
  },
  {
   "cell_type": "code",
   "execution_count": 7,
   "id": "85b02439-b43d-4a92-b7ff-fc62f8b125aa",
   "metadata": {},
   "outputs": [
    {
     "name": "stdout",
     "output_type": "stream",
     "text": [
      "Discharge Summary updated successfully!\n"
     ]
    }
   ],
   "source": [
    "import pandas as pd\n",
    "import random\n",
    "import numpy as np\n",
    "from datetime import datetime, timedelta\n",
    "# Function to generate random dates within a given range\n",
    "def generate_random_date(start_date, end_date):\n",
    "    start_dt = datetime.strptime(start_date, '%d-%m-%Y')\n",
    "    end_dt = datetime.strptime(end_date, '%d-%m-%Y')\n",
    "    if end_dt > start_dt:\n",
    "        delta = (end_dt - start_dt).days\n",
    "        random_days_start = random.randint(0, delta)\n",
    "        random_days_end = random.randint(random_days_start, delta)\n",
    "        admission_end = start_dt + timedelta(days=random_days_end)\n",
    "        return admission_end.strftime('%d-%m-%Y')\n",
    "\n",
    "changed_df = pd.read_csv('updated_health_insurance_data_Benefits.csv')\n",
    "# Define a list of keywords to check for in \"Diagnosis Report\"\n",
    "keywords = [\"surgery\", \"dengue\", \"respiratory failure\", \"dialysis\"]\n",
    "# Update rows where \"Surgery\" is in \"Diagnosis Report\"\n",
    "for index, row in changed_df.iterrows():\n",
    "    if any(keyword in row['Diagnosis Report'].lower() for keyword in keywords):\n",
    "        # Generate random start and end dates within the existing range\n",
    "        admission_end = generate_random_date(row['Hospitalized Date'],row['End Date'])\n",
    "        \n",
    "        \n",
    "        # Update the Discharge Summary with relevant details\n",
    "        changed_df.loc[index, 'Discharge Summary'] = f\"Admission Start Date:{row['Hospitalized Date']}, Admission End: {admission_end}, , Treatment: {row['Diagnosis Report']}\"\n",
    "\n",
    "\n",
    "# Save the updated dataset\n",
    "changed_df.to_csv('updated_health_insurance_data_Benefits_with_discharge_summary.csv', index=False)\n",
    "\n",
    "print(\"Discharge Summary updated successfully!\")"
   ]
  },
  {
   "cell_type": "code",
   "execution_count": 8,
   "id": "9c1ac368-6b48-4622-b8c9-4d1173182689",
   "metadata": {},
   "outputs": [
    {
     "data": {
      "text/plain": [
       "1             Car executive its design part statement. She American still his million decision not.\n",
       "5                                                   Cover candidate two over quality option writer.\n",
       "8                                                     Speech decide between ever tell better stuff.\n",
       "9     Stuff military military fact speak especially door prove. Fact money onto stand develop city.\n",
       "12                                See doctor various them perhaps. Newspaper gun time style decade.\n",
       "21                                      Enjoy lay would success turn degree. Better production him.\n",
       "23                                                        Itself vote eat pretty finish democratic.\n",
       "29                                                        Simple sea whatever across send attorney.\n",
       "33                            Camera prevent alone decide. Score general a crime easy along option.\n",
       "35                                                                          Nice think lead simply.\n",
       "Name: Discharge Summary, dtype: object"
      ]
     },
     "execution_count": 8,
     "metadata": {},
     "output_type": "execute_result"
    }
   ],
   "source": [
    "# Adjust the maximum column width\n",
    "pd.set_option('display.max_colwidth', None)\n",
    "\n",
    "# Combine keywords into a regex pattern\n",
    "keywords_pattern = \"|\".join(keywords)\n",
    "\n",
    "# Filter rows where \"Discharge Summary\" or \"Diagnosis Report\" contains the keywords (case-insensitive)\n",
    "filtered_df = df[\n",
    "    (df['Discharge Summary'].str.contains(keywords_pattern, case=False, na=False)) |\n",
    "    (df['Diagnosis Report'].str.contains(keywords_pattern, case=False, na=False))\n",
    "]\n",
    "\n",
    "# Display the filtered rows for the specific columns\n",
    "filtered_df['Discharge Summary'].head(10).T\n"
   ]
  },
  {
   "cell_type": "code",
   "execution_count": null,
   "id": "065b315a-2320-4530-a6dc-7188ef6a9062",
   "metadata": {},
   "outputs": [],
   "source": []
  }
 ],
 "metadata": {
  "kernelspec": {
   "display_name": "Python 3 (ipykernel)",
   "language": "python",
   "name": "python3"
  },
  "language_info": {
   "codemirror_mode": {
    "name": "ipython",
    "version": 3
   },
   "file_extension": ".py",
   "mimetype": "text/x-python",
   "name": "python",
   "nbconvert_exporter": "python",
   "pygments_lexer": "ipython3",
   "version": "3.11.7"
  }
 },
 "nbformat": 4,
 "nbformat_minor": 5
}
